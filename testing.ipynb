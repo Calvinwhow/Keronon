{
 "cells": [
  {
   "cell_type": "code",
   "execution_count": 7,
   "metadata": {},
   "outputs": [],
   "source": [
    "# from vta_model.model_vta import ModelVta\n",
    "\n",
    "# model = ModelVta(center_coord=[11.9492,-11.2413,-2.10106], output_path='/Users/cu135/hires_backdrops/test')\n",
    "# model.run(radius_mm=2, filename='vta.nii')"
   ]
  },
  {
   "cell_type": "code",
   "execution_count": 8,
   "metadata": {},
   "outputs": [],
   "source": [
    "import numpy as np"
   ]
  },
  {
   "cell_type": "code",
   "execution_count": 9,
   "metadata": {},
   "outputs": [
    {
     "data": {
      "text/plain": [
       "array([[0., 1., 0., 0.],\n",
       "       [0., 0., 1., 0.],\n",
       "       [0., 0., 0., 1.],\n",
       "       [0., 0., 0., 0.]])"
      ]
     },
     "execution_count": 9,
     "metadata": {},
     "output_type": "execute_result"
    }
   ],
   "source": [
    "np.eye(4,4,1)"
   ]
  },
  {
   "cell_type": "markdown",
   "metadata": {},
   "source": [
    "Directional VTA Testing"
   ]
  },
  {
   "cell_type": "code",
   "execution_count": 10,
   "metadata": {},
   "outputs": [
    {
     "data": {
      "text/plain": [
       "1"
      ]
     },
     "execution_count": 10,
     "metadata": {},
     "output_type": "execute_result"
    }
   ],
   "source": [
    "coords= [\n",
    "\t\t[10.2682,-14.0467,-7.73696]]\n",
    "len(coords)"
   ]
  },
  {
   "cell_type": "code",
   "execution_count": 11,
   "metadata": {},
   "outputs": [],
   "source": [
    "coords= [\n",
    "\t\t[10.2682,-14.0467,-7.73696],\n",
    "\t\t[11.3144,-12.8041,-6.17608],\n",
    "\t\t[10.2054,-12.8406,-5.87032],\n",
    "\t\t[10.9189,-13.6905,-5.57142],\n",
    "\t\t[11.8759,-11.8691,-4.30005],\n",
    "\t\t[10.7628,-11.8979,-4.00238],\n",
    "\t\t[11.4891,-12.7585,-3.69509],\n",
    "\t\t[11.9492,-11.2413,-2.10106]\n",
    "\t]"
   ]
  },
  {
   "cell_type": "markdown",
   "metadata": {},
   "source": [
    "Test VTA Generation"
   ]
  },
  {
   "cell_type": "code",
   "execution_count": 12,
   "metadata": {},
   "outputs": [
    {
     "ename": "ModuleNotFoundError",
     "evalue": "No module named 'vta_model'",
     "output_type": "error",
     "traceback": [
      "\u001b[0;31m---------------------------------------------------------------------------\u001b[0m",
      "\u001b[0;31mModuleNotFoundError\u001b[0m                       Traceback (most recent call last)",
      "Cell \u001b[0;32mIn[12], line 1\u001b[0m\n\u001b[0;32m----> 1\u001b[0m \u001b[38;5;28;01mfrom\u001b[39;00m\u001b[38;5;250m \u001b[39m\u001b[38;5;21;01mvta_model\u001b[39;00m\u001b[38;5;21;01m.\u001b[39;00m\u001b[38;5;21;01mmodel_directional_vta\u001b[39;00m\u001b[38;5;250m \u001b[39m\u001b[38;5;28;01mimport\u001b[39;00m ModelDirectionalVta\n\u001b[1;32m      2\u001b[0m vtamodel \u001b[38;5;241m=\u001b[39m ModelDirectionalVta(contact_coordinates\u001b[38;5;241m=\u001b[39mcoords[\u001b[38;5;241m1\u001b[39m:\u001b[38;5;241m4\u001b[39m],\n\u001b[1;32m      3\u001b[0m                                 origin_index\u001b[38;5;241m=\u001b[39m\u001b[38;5;241m0\u001b[39m,\n\u001b[1;32m      4\u001b[0m                                 voxel_size \u001b[38;5;241m=\u001b[39m [\u001b[38;5;241m0.2\u001b[39m, \u001b[38;5;241m0.2\u001b[39m, \u001b[38;5;241m0.2\u001b[39m],\n\u001b[1;32m      5\u001b[0m                                 grid_shape \u001b[38;5;241m=\u001b[39m [\u001b[38;5;241m71\u001b[39m, \u001b[38;5;241m71\u001b[39m, \u001b[38;5;241m71\u001b[39m],\n\u001b[1;32m      6\u001b[0m                                 output_path \u001b[38;5;241m=\u001b[39m \u001b[38;5;124m\"\u001b[39m\u001b[38;5;124m/Users/cu135/hires_backdrops/test\u001b[39m\u001b[38;5;124m\"\u001b[39m,\n\u001b[1;32m      7\u001b[0m                                 fname \u001b[38;5;241m=\u001b[39m \u001b[38;5;124m\"\u001b[39m\u001b[38;5;124mdirectional_vta.nii\u001b[39m\u001b[38;5;124m\"\u001b[39m)\n\u001b[1;32m      8\u001b[0m vtamodel\u001b[38;5;241m.\u001b[39mrun(radius_mm\u001b[38;5;241m=\u001b[39m\u001b[38;5;241m2\u001b[39m)\n",
      "\u001b[0;31mModuleNotFoundError\u001b[0m: No module named 'vta_model'"
     ]
    }
   ],
   "source": [
    "from vta_model.model_directional_vta import ModelDirectionalVta\n",
    "vtamodel = ModelDirectionalVta(contact_coordinates=coords[1:4],\n",
    "                                origin_index=0,\n",
    "                                voxel_size = [0.2, 0.2, 0.2],\n",
    "                                grid_shape = [71, 71, 71],\n",
    "                                output_path = \"/Users/cu135/hires_backdrops/test\",\n",
    "                                fname = \"directional_vta.nii\")\n",
    "vtamodel.run(radius_mm=2)"
   ]
  },
  {
   "cell_type": "markdown",
   "metadata": {},
   "source": [
    "Test VTA Optimizer"
   ]
  },
  {
   "cell_type": "code",
   "execution_count": null,
   "metadata": {},
   "outputs": [],
   "source": [
    "nifti_path = '/Users/cu135/Partners HealthCare Dropbox/Calvin Howard/studies/optimizer/BIDMCBERMDST_nosubj9_Gait_UPDRS_Rand_exch_vox_vstat_pcc_inverse_r_map.nii'\n",
    "base_path = '/Users/cu135/Partners HealthCare Dropbox/Calvin Howard/studies/optimizer/datasets/CbctDbs0282'"
   ]
  },
  {
   "cell_type": "code",
   "execution_count": null,
   "metadata": {},
   "outputs": [],
   "source": [
    "from processing_utils.run_optimizer import nii_to_mni, process_data\n",
    "\n",
    "mni_coords = nii_to_mni(nifti_path)\n",
    "process_data(base_path, mni_coords)"
   ]
  },
  {
   "cell_type": "markdown",
   "metadata": {},
   "source": [
    "from processing"
   ]
  },
  {
   "cell_type": "code",
   "execution_count": null,
   "metadata": {},
   "outputs": [
    {
     "ename": "ValueError",
     "evalue": "setting an array element with a sequence. The requested array has an inhomogeneous shape after 1 dimensions. The detected shape was (2,) + inhomogeneous part.",
     "output_type": "error",
     "traceback": [
      "\u001b[0;31m---------------------------------------------------------------------------\u001b[0m",
      "\u001b[0;31mValueError\u001b[0m                                Traceback (most recent call last)",
      "Cell \u001b[0;32mIn[6], line 5\u001b[0m\n\u001b[1;32m      2\u001b[0m \u001b[38;5;28;01mdef\u001b[39;00m\u001b[38;5;250m \u001b[39m\u001b[38;5;21mcount_segments\u001b[39m(sphere_coords):\n\u001b[1;32m      3\u001b[0m     \u001b[38;5;28;01mreturn\u001b[39;00m \u001b[38;5;28msum\u001b[39m(\u001b[38;5;28misinstance\u001b[39m(sub, \u001b[38;5;28mlist\u001b[39m) \u001b[38;5;28;01mfor\u001b[39;00m sub \u001b[38;5;129;01min\u001b[39;00m sphere_coords)\n\u001b[0;32m----> 5\u001b[0m t \u001b[38;5;241m=\u001b[39m \u001b[43mnp\u001b[49m\u001b[38;5;241;43m.\u001b[39;49m\u001b[43marray\u001b[49m\u001b[43m(\u001b[49m\u001b[43m[\u001b[49m\u001b[43m[\u001b[49m\u001b[38;5;241;43m1\u001b[39;49m\u001b[43m,\u001b[49m\u001b[38;5;241;43m2\u001b[39;49m\u001b[43m,\u001b[49m\u001b[38;5;241;43m3\u001b[39;49m\u001b[43m]\u001b[49m\u001b[43m,\u001b[49m\u001b[43m \u001b[49m\u001b[43m[\u001b[49m\u001b[43m[\u001b[49m\u001b[38;5;241;43m1\u001b[39;49m\u001b[43m,\u001b[49m\u001b[38;5;241;43m2\u001b[39;49m\u001b[43m,\u001b[49m\u001b[38;5;241;43m3\u001b[39;49m\u001b[43m]\u001b[49m\u001b[43m,\u001b[49m\u001b[43m[\u001b[49m\u001b[38;5;241;43m1\u001b[39;49m\u001b[43m,\u001b[49m\u001b[38;5;241;43m2\u001b[39;49m\u001b[43m,\u001b[49m\u001b[38;5;241;43m3\u001b[39;49m\u001b[43m]\u001b[49m\u001b[43m]\u001b[49m\u001b[43m]\u001b[49m\u001b[43m)\u001b[49m\n\u001b[1;32m      6\u001b[0m count_segments(t)\n",
      "\u001b[0;31mValueError\u001b[0m: setting an array element with a sequence. The requested array has an inhomogeneous shape after 1 dimensions. The detected shape was (2,) + inhomogeneous part."
     ]
    }
   ],
   "source": [
    "import numpy as np\n",
    "def count_segments(sphere_coords):\n",
    "    return sum(isinstance(sub, list) for sub in sphere_coords)\n",
    "\n",
    "t = np.array([[1,2,3], [[1,2,3],[1,2,3]]])\n",
    "count_segments(t)"
   ]
  },
  {
   "cell_type": "code",
   "execution_count": null,
   "metadata": {},
   "outputs": [
    {
     "data": {
      "text/plain": [
       "[1, 2, 3]"
      ]
     },
     "execution_count": 11,
     "metadata": {},
     "output_type": "execute_result"
    }
   ],
   "source": [
    "t = {'d': [1,2,3]}\n",
    "t['d']"
   ]
  },
  {
   "cell_type": "code",
   "execution_count": 1,
   "metadata": {},
   "outputs": [],
   "source": [
    "p = '/Users/cu135/Software_Local/StimPyPer/stim_pyper/json_utils/test_electrode.json'"
   ]
  },
  {
   "cell_type": "code",
   "execution_count": null,
   "metadata": {},
   "outputs": [],
   "source": [
    "\n",
    "        "
   ]
  },
  {
   "cell_type": "code",
   "execution_count": 37,
   "metadata": {},
   "outputs": [
    {
     "data": {
      "text/plain": [
       "[{0: {1: array([ -8.82046,   3.9988 , -10.652  ])},\n",
       "  1: {2: array([-9.60786,  4.71071, -7.8736 ])},\n",
       "  2: {2: array([-10.2009 ,   5.51964,  -8.43272])},\n",
       "  3: {2: array([-10.6775 ,   4.46854,  -8.31959])},\n",
       "  4: {3: array([-10.8192 ,   5.54901,  -5.47567])},\n",
       "  5: {3: array([-11.4234 ,   6.33489,  -6.02034])},\n",
       "  6: {3: array([-11.9146 ,   5.29093,  -5.892  ])},\n",
       "  7: {4: array([-12.6139 ,   6.48515,  -3.36506])}}]"
      ]
     },
     "execution_count": 37,
     "metadata": {},
     "output_type": "execute_result"
    }
   ],
   "source": [
    "jr = JsonReader(p)\n",
    "jr.run()"
   ]
  },
  {
   "cell_type": "code",
   "execution_count": null,
   "metadata": {},
   "outputs": [],
   "source": []
  },
  {
   "cell_type": "code",
   "execution_count": null,
   "metadata": {},
   "outputs": [],
   "source": []
  }
 ],
 "metadata": {
  "kernelspec": {
   "display_name": ".optimizer_venv (3.10.18)",
   "language": "python",
   "name": "python3"
  },
  "language_info": {
   "codemirror_mode": {
    "name": "ipython",
    "version": 3
   },
   "file_extension": ".py",
   "mimetype": "text/x-python",
   "name": "python",
   "nbconvert_exporter": "python",
   "pygments_lexer": "ipython3",
   "version": "3.10.18"
  }
 },
 "nbformat": 4,
 "nbformat_minor": 2
}
