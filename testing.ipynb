{
 "cells": [
  {
   "cell_type": "markdown",
   "metadata": {},
   "source": [
    "# Optimize an Electrode"
   ]
  },
  {
   "cell_type": "code",
   "execution_count": 1,
   "metadata": {},
   "outputs": [],
   "source": [
    "recon_path = '/Users/cu135/Partners HealthCare Dropbox/Calvin Howard/studies/collaborations/Richardson_DBS/Reco_Chron_Pain/VCVS_VPL/ea_reconstruction.mat'\n",
    "target_path = '/Users/cu135/Partners HealthCare Dropbox/Calvin Howard/studies/collaborations/Richardson_DBS/optimized_program/target_maps/flipped_SEEG_pain_intensity_vs_sham_inverted_pcc_inverse_r_map.nii'\n",
    "out_dir = '/Users/cu135/hires_backdrops/test_electrode'"
   ]
  },
  {
   "cell_type": "code",
   "execution_count": null,
   "metadata": {},
   "outputs": [
    {
     "ename": "ImportError",
     "evalue": "cannot import name 'OptimizerProcessor' from 'stim_pyper.processing_utils.run_optimizer' (/Users/cu135/Software_Local/StimPyPer/stim_pyper/processing_utils/run_optimizer.py)",
     "output_type": "error",
     "traceback": [
      "\u001b[0;31m---------------------------------------------------------------------------\u001b[0m",
      "\u001b[0;31mImportError\u001b[0m                               Traceback (most recent call last)",
      "Cell \u001b[0;32mIn[3], line 1\u001b[0m\n\u001b[0;32m----> 1\u001b[0m \u001b[38;5;28;01mfrom\u001b[39;00m\u001b[38;5;250m \u001b[39m\u001b[38;5;21;01mstim_pyper\u001b[39;00m\u001b[38;5;21;01m.\u001b[39;00m\u001b[38;5;21;01mprocessing_utils\u001b[39;00m\u001b[38;5;21;01m.\u001b[39;00m\u001b[38;5;21;01mrun_optimizer\u001b[39;00m\u001b[38;5;250m \u001b[39m\u001b[38;5;28;01mimport\u001b[39;00m OptimizerProcessor\n\u001b[1;32m      2\u001b[0m optimizer \u001b[38;5;241m=\u001b[39m OptimizerProcessor(electrode_data\u001b[38;5;241m=\u001b[39mrecon_path, nifti_path\u001b[38;5;241m=\u001b[39mtarget_path, output_path\u001b[38;5;241m=\u001b[39mout_dir)\n\u001b[1;32m      3\u001b[0m optimizer\u001b[38;5;241m.\u001b[39mrun()\n",
      "\u001b[0;31mImportError\u001b[0m: cannot import name 'OptimizerProcessor' from 'stim_pyper.processing_utils.run_optimizer' (/Users/cu135/Software_Local/StimPyPer/stim_pyper/processing_utils/run_optimizer.py)"
     ]
    }
   ],
   "source": [
    "from stim_pyper.processing_utils.run_optimizer import OptimizerProcessor\n",
    "optimizer = OptimizerProcessor(electrode_data=recon_path, nifti_path=target_path, output_path=out_dir)\n",
    "optimizer.run()"
   ]
  },
  {
   "cell_type": "markdown",
   "metadata": {},
   "source": [
    "# Miscellaneous"
   ]
  },
  {
   "cell_type": "code",
   "execution_count": null,
   "metadata": {},
   "outputs": [],
   "source": [
    "# from vta_model.model_vta import ModelVta\n",
    "\n",
    "# model = ModelVta(center_coord=[11.9492,-11.2413,-2.10106], output_path='/Users/cu135/hires_backdrops/test')\n",
    "# model.run(radius_mm=2, filename='vta.nii')"
   ]
  },
  {
   "cell_type": "code",
   "execution_count": null,
   "metadata": {},
   "outputs": [],
   "source": [
    "import numpy as np"
   ]
  },
  {
   "cell_type": "code",
   "execution_count": null,
   "metadata": {},
   "outputs": [],
   "source": [
    "np.eye(4,4,1)"
   ]
  },
  {
   "cell_type": "markdown",
   "metadata": {},
   "source": [
    "Directional VTA Testing"
   ]
  },
  {
   "cell_type": "code",
   "execution_count": null,
   "metadata": {},
   "outputs": [],
   "source": [
    "coords= [\n",
    "\t\t[10.2682,-14.0467,-7.73696]]\n",
    "len(coords)"
   ]
  },
  {
   "cell_type": "code",
   "execution_count": null,
   "metadata": {},
   "outputs": [],
   "source": [
    "coords= [\n",
    "\t\t[10.2682,-14.0467,-7.73696],\n",
    "\t\t[11.3144,-12.8041,-6.17608],\n",
    "\t\t[10.2054,-12.8406,-5.87032],\n",
    "\t\t[10.9189,-13.6905,-5.57142],\n",
    "\t\t[11.8759,-11.8691,-4.30005],\n",
    "\t\t[10.7628,-11.8979,-4.00238],\n",
    "\t\t[11.4891,-12.7585,-3.69509],\n",
    "\t\t[11.9492,-11.2413,-2.10106]\n",
    "\t]"
   ]
  },
  {
   "cell_type": "code",
   "execution_count": null,
   "metadata": {},
   "outputs": [],
   "source": [
    "print(np.array(coords))"
   ]
  },
  {
   "cell_type": "markdown",
   "metadata": {},
   "source": [
    "Test VTA Generation"
   ]
  },
  {
   "cell_type": "code",
   "execution_count": null,
   "metadata": {},
   "outputs": [],
   "source": [
    "from vta_model.model_directional_vta import ModelDirectionalVta\n",
    "vtamodel = ModelDirectionalVta(contact_coordinates=coords[1:4],\n",
    "                                origin_index=0,\n",
    "                                voxel_size = [0.2, 0.2, 0.2],\n",
    "                                grid_shape = [71, 71, 71],\n",
    "                                output_path = \"/Users/cu135/hires_backdrops/test\",\n",
    "                                fname = \"directional_vta.nii\")\n",
    "vtamodel.run(radius_mm=2)"
   ]
  },
  {
   "cell_type": "markdown",
   "metadata": {},
   "source": [
    "Test VTA Optimizer"
   ]
  },
  {
   "cell_type": "code",
   "execution_count": null,
   "metadata": {},
   "outputs": [],
   "source": [
    "nifti_path = '/Users/cu135/Partners HealthCare Dropbox/Calvin Howard/studies/optimizer/BIDMCBERMDST_nosubj9_Gait_UPDRS_Rand_exch_vox_vstat_pcc_inverse_r_map.nii'\n",
    "base_path = '/Users/cu135/Partners HealthCare Dropbox/Calvin Howard/studies/optimizer/datasets/CbctDbs0282'"
   ]
  },
  {
   "cell_type": "code",
   "execution_count": null,
   "metadata": {},
   "outputs": [],
   "source": [
    "from processing_utils.run_optimizer import nii_to_mni, process_data\n",
    "\n",
    "mni_coords = nii_to_mni(nifti_path)\n",
    "process_data(base_path, mni_coords)"
   ]
  },
  {
   "cell_type": "markdown",
   "metadata": {},
   "source": [
    "from processing"
   ]
  }
 ],
 "metadata": {
  "kernelspec": {
   "display_name": ".optimizer_venv (3.10.18)",
   "language": "python",
   "name": "python3"
  },
  "language_info": {
   "codemirror_mode": {
    "name": "ipython",
    "version": 3
   },
   "file_extension": ".py",
   "mimetype": "text/x-python",
   "name": "python",
   "nbconvert_exporter": "python",
   "pygments_lexer": "ipython3",
   "version": "3.10.18"
  }
 },
 "nbformat": 4,
 "nbformat_minor": 2
}
