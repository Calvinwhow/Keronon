{
 "cells": [
  {
   "cell_type": "markdown",
   "metadata": {},
   "source": [
    "# Optimize an Electrode"
   ]
  },
  {
   "cell_type": "code",
   "execution_count": 1,
   "metadata": {},
   "outputs": [],
   "source": [
    "# recon_path = '/Users/cu135/Software_Local/StimPyPer/stim_pyper/matlab_utils/test_electrode.mat'\n",
    "recon_path = '/Users/cu135/Partners HealthCare Dropbox/Calvin Howard/studies/collaborations/Fox_DBS_Tremor_Anxiety/reconstruction/sub-CbctDbs0420_desc-reconstruction.mat'\n",
    "target_path = '/Users/cu135/Partners HealthCare Dropbox/Calvin Howard/studies/collaborations/Richardson_DBS/optimized_program/target_maps/roi_MDD_DBS_target_higher_is_worse_flipped.nii.gz'\n",
    "out_dir = '/Users/cu135/Partners HealthCare Dropbox/Calvin Howard/studies/collaborations/Fox_DBS_Tremor_Anxiety/anxiety_optimization'"
   ]
  },
  {
   "cell_type": "code",
   "execution_count": 2,
   "metadata": {},
   "outputs": [
    {
     "name": "stdout",
     "output_type": "stream",
     "text": [
      "Boston Scientific Vercise Directed\n",
      "Boston Scientific Vercise Directed\n",
      "[array([[ 11.7705 , -14.7274 ,  -6.37477],\n",
      "        [ 12.6487 , -13.8923 ,  -4.59333],\n",
      "        [ 12.6757 , -13.1063 ,  -5.32524],\n",
      "        [ 11.6464 , -13.3173 ,  -4.78751],\n",
      "        [ 13.0944 , -12.5753 ,  -3.01365],\n",
      "        [ 13.1248 , -11.783  ,  -3.76519],\n",
      "        [ 12.0947 , -11.9799 ,  -3.22853],\n",
      "        [ 13.1559 , -10.7648 ,  -1.70164]])\n",
      " array([[ -9.79831, -14.9825 ,  -5.95577],\n",
      "        [-11.1709 , -13.7458 ,  -5.00736],\n",
      "        [-10.3448 , -14.3174 ,  -4.102  ],\n",
      "        [ -9.94906, -13.3909 ,  -4.62482],\n",
      "        [-11.7585 , -12.6101 ,  -3.47492],\n",
      "        [-10.9537 , -13.1585 ,  -2.54452],\n",
      "        [-10.5014 , -12.229  ,  -3.07771],\n",
      "        [-11.6034 , -11.5133 ,  -1.29674]])] \n",
      "---\n",
      " ['Boston Scientific Vercise Directed', 'Boston Scientific Vercise Directed']\n",
      "[[ 11.7705  -14.7274   -6.37477]\n",
      " [ 12.6487  -13.8923   -4.59333]\n",
      " [ 12.6757  -13.1063   -5.32524]\n",
      " [ 11.6464  -13.3173   -4.78751]\n",
      " [ 13.0944  -12.5753   -3.01365]\n",
      " [ 13.1248  -11.783    -3.76519]\n",
      " [ 12.0947  -11.9799   -3.22853]\n",
      " [ 13.1559  -10.7648   -1.70164]] Boston Scientific Vercise Directed\n"
     ]
    },
    {
     "ename": "KeyError",
     "evalue": "'Model: Boston Scientific Vercise Directed is not implemented in electrode_lut.json'",
     "output_type": "error",
     "traceback": [
      "\u001b[0;31m---------------------------------------------------------------------------\u001b[0m",
      "\u001b[0;31mKeyError\u001b[0m                                  Traceback (most recent call last)",
      "File \u001b[0;32m~/Software_Local/StimPyPer/stim_pyper/matlab_utils/mat_reader.py:105\u001b[0m, in \u001b[0;36mMatReaderV2._get_segments\u001b[0;34m(self, lut_dict, electrode_model, segment_lut)\u001b[0m\n\u001b[1;32m    104\u001b[0m \u001b[38;5;28;01mtry\u001b[39;00m: \n\u001b[0;32m--> 105\u001b[0m     segments \u001b[38;5;241m=\u001b[39m \u001b[43mlut_dict\u001b[49m\u001b[43m[\u001b[49m\u001b[43melectrode_model\u001b[49m\u001b[43m]\u001b[49m[segment_lut]\n\u001b[1;32m    106\u001b[0m \u001b[38;5;28;01mexcept\u001b[39;00m \u001b[38;5;167;01mKeyError\u001b[39;00m \u001b[38;5;28;01mas\u001b[39;00m e:\n",
      "\u001b[0;31mKeyError\u001b[0m: 'Boston Scientific Vercise Directed'",
      "\nDuring handling of the above exception, another exception occurred:\n",
      "\u001b[0;31mKeyError\u001b[0m                                  Traceback (most recent call last)",
      "Cell \u001b[0;32mIn[2], line 3\u001b[0m\n\u001b[1;32m      1\u001b[0m \u001b[38;5;28;01mfrom\u001b[39;00m\u001b[38;5;250m \u001b[39m\u001b[38;5;21;01mstim_pyper\u001b[39;00m\u001b[38;5;21;01m.\u001b[39;00m\u001b[38;5;21;01mprocessing_utils\u001b[39;00m\u001b[38;5;21;01m.\u001b[39;00m\u001b[38;5;21;01mrun_optimizer\u001b[39;00m\u001b[38;5;250m \u001b[39m\u001b[38;5;28;01mimport\u001b[39;00m OptimizerProcessor\n\u001b[1;32m      2\u001b[0m optimizer \u001b[38;5;241m=\u001b[39m OptimizerProcessor(electrode_data_path\u001b[38;5;241m=\u001b[39mrecon_path, nifti_path\u001b[38;5;241m=\u001b[39mtarget_path, output_path\u001b[38;5;241m=\u001b[39mout_dir)\n\u001b[0;32m----> 3\u001b[0m d \u001b[38;5;241m=\u001b[39m \u001b[43moptimizer\u001b[49m\u001b[38;5;241;43m.\u001b[39;49m\u001b[43mrun\u001b[49m\u001b[43m(\u001b[49m\u001b[43m)\u001b[49m\n",
      "File \u001b[0;32m~/Software_Local/StimPyPer/stim_pyper/processing_utils/run_optimizer.py:105\u001b[0m, in \u001b[0;36mOptimizerProcessor.run\u001b[0;34m(self)\u001b[0m\n\u001b[1;32m    103\u001b[0m \u001b[38;5;250m\u001b[39m\u001b[38;5;124;03m\"\"\"Processes the data and calls handle_nii_map for each combination of lambda.\"\"\"\u001b[39;00m\n\u001b[1;32m    104\u001b[0m target_coords \u001b[38;5;241m=\u001b[39m \u001b[38;5;28mself\u001b[39m\u001b[38;5;241m.\u001b[39mnii_to_mni(\u001b[38;5;28mself\u001b[39m\u001b[38;5;241m.\u001b[39mnifti_path)\n\u001b[0;32m--> 105\u001b[0m electrode_info \u001b[38;5;241m=\u001b[39m \u001b[38;5;28;43mself\u001b[39;49m\u001b[38;5;241;43m.\u001b[39;49m\u001b[43mget_electrode_info\u001b[49m\u001b[43m(\u001b[49m\u001b[43m)\u001b[49m\n\u001b[1;32m    106\u001b[0m \u001b[38;5;28;01mfor\u001b[39;00m electrode_idx, electrode_dict \u001b[38;5;129;01min\u001b[39;00m \u001b[38;5;28menumerate\u001b[39m(electrode_info):\n\u001b[1;32m    107\u001b[0m     dir_models_list, elec_coords_list \u001b[38;5;241m=\u001b[39m \u001b[38;5;28mself\u001b[39m\u001b[38;5;241m.\u001b[39mget_directional_electrodes(electrode_dict)\n",
      "File \u001b[0;32m~/Software_Local/StimPyPer/stim_pyper/processing_utils/run_optimizer.py:50\u001b[0m, in \u001b[0;36mOptimizerProcessor.get_electrode_info\u001b[0;34m(self)\u001b[0m\n\u001b[1;32m     48\u001b[0m \u001b[38;5;250m\u001b[39m\u001b[38;5;124;03m'''Function to receive electrode data of various sources'''\u001b[39;00m\n\u001b[1;32m     49\u001b[0m \u001b[38;5;28;01mif\u001b[39;00m \u001b[38;5;28misinstance\u001b[39m(\u001b[38;5;28mself\u001b[39m\u001b[38;5;241m.\u001b[39melectrode_data, \u001b[38;5;28mstr\u001b[39m) \u001b[38;5;129;01mand\u001b[39;00m \u001b[38;5;28mself\u001b[39m\u001b[38;5;241m.\u001b[39melectrode_data\u001b[38;5;241m.\u001b[39mlower()\u001b[38;5;241m.\u001b[39mendswith(\u001b[38;5;124m'\u001b[39m\u001b[38;5;124m.mat\u001b[39m\u001b[38;5;124m'\u001b[39m):\n\u001b[0;32m---> 50\u001b[0m     electrode_info \u001b[38;5;241m=\u001b[39m \u001b[38;5;28;43mself\u001b[39;49m\u001b[38;5;241;43m.\u001b[39;49m\u001b[43m_get_lead_dbs_electrode\u001b[49m\u001b[43m(\u001b[49m\u001b[43m)\u001b[49m\n\u001b[1;32m     51\u001b[0m \u001b[38;5;28;01melif\u001b[39;00m \u001b[38;5;28misinstance\u001b[39m(\u001b[38;5;28mself\u001b[39m\u001b[38;5;241m.\u001b[39melectrode_data, \u001b[38;5;28mstr\u001b[39m) \u001b[38;5;129;01mand\u001b[39;00m \u001b[38;5;28mself\u001b[39m\u001b[38;5;241m.\u001b[39melectrode_data\u001b[38;5;241m.\u001b[39mlower()\u001b[38;5;241m.\u001b[39mendswith(\u001b[38;5;124m'\u001b[39m\u001b[38;5;124m.json\u001b[39m\u001b[38;5;124m'\u001b[39m):\n\u001b[1;32m     52\u001b[0m     electrode_info \u001b[38;5;241m=\u001b[39m \u001b[38;5;28mself\u001b[39m\u001b[38;5;241m.\u001b[39m_get_json_electrode()\n",
      "File \u001b[0;32m~/Software_Local/StimPyPer/stim_pyper/processing_utils/run_optimizer.py:39\u001b[0m, in \u001b[0;36mOptimizerProcessor._get_lead_dbs_electrode\u001b[0;34m(self)\u001b[0m\n\u001b[1;32m     37\u001b[0m \u001b[38;5;28;01mdef\u001b[39;00m\u001b[38;5;250m \u001b[39m\u001b[38;5;21m_get_lead_dbs_electrode\u001b[39m(\u001b[38;5;28mself\u001b[39m):\n\u001b[1;32m     38\u001b[0m \u001b[38;5;250m    \u001b[39m\u001b[38;5;124;03m'''Opens a standard lead dbs reconstruction.mat and reads the electrode data in'''\u001b[39;00m\n\u001b[0;32m---> 39\u001b[0m     electrode_info \u001b[38;5;241m=\u001b[39m \u001b[43mMatReaderV2\u001b[49m\u001b[43m(\u001b[49m\u001b[38;5;28;43mself\u001b[39;49m\u001b[38;5;241;43m.\u001b[39;49m\u001b[43melectrode_data\u001b[49m\u001b[43m)\u001b[49m\u001b[38;5;241;43m.\u001b[39;49m\u001b[43mrun\u001b[49m\u001b[43m(\u001b[49m\u001b[43m)\u001b[49m\n\u001b[1;32m     40\u001b[0m     \u001b[38;5;28;01mreturn\u001b[39;00m electrode_info\n",
      "File \u001b[0;32m~/Software_Local/StimPyPer/stim_pyper/matlab_utils/mat_reader.py:144\u001b[0m, in \u001b[0;36mMatReaderV2.run\u001b[0;34m(self)\u001b[0m\n\u001b[1;32m    142\u001b[0m \u001b[38;5;28;01mfor\u001b[39;00m coord, model \u001b[38;5;129;01min\u001b[39;00m \u001b[38;5;28mzip\u001b[39m(coords_list, model_list):\n\u001b[1;32m    143\u001b[0m     \u001b[38;5;28mprint\u001b[39m(coord, model)\n\u001b[0;32m--> 144\u001b[0m     segments \u001b[38;5;241m=\u001b[39m \u001b[38;5;28;43mself\u001b[39;49m\u001b[38;5;241;43m.\u001b[39;49m\u001b[43msegment_lookup\u001b[49m\u001b[43m(\u001b[49m\u001b[43mmodel\u001b[49m\u001b[43m)\u001b[49m\n\u001b[1;32m    145\u001b[0m     out\u001b[38;5;241m.\u001b[39mappend(\u001b[38;5;28mself\u001b[39m\u001b[38;5;241m.\u001b[39mpair_contacts_to_segments(coord, segments))\n\u001b[1;32m    146\u001b[0m \u001b[38;5;28;01mreturn\u001b[39;00m out\n",
      "File \u001b[0;32m~/Software_Local/StimPyPer/stim_pyper/matlab_utils/mat_reader.py:118\u001b[0m, in \u001b[0;36mMatReaderV2.segment_lookup\u001b[0;34m(self, electrode_model, segment_lut)\u001b[0m\n\u001b[1;32m    116\u001b[0m \u001b[38;5;28;01mwith\u001b[39;00m \u001b[38;5;28mopen\u001b[39m(lut, \u001b[38;5;124m'\u001b[39m\u001b[38;5;124mr\u001b[39m\u001b[38;5;124m'\u001b[39m) \u001b[38;5;28;01mas\u001b[39;00m f:\n\u001b[1;32m    117\u001b[0m     lut_dict \u001b[38;5;241m=\u001b[39m json\u001b[38;5;241m.\u001b[39mload(f)\n\u001b[0;32m--> 118\u001b[0m \u001b[38;5;28;01mreturn\u001b[39;00m \u001b[38;5;28;43mself\u001b[39;49m\u001b[38;5;241;43m.\u001b[39;49m\u001b[43m_get_segments\u001b[49m\u001b[43m(\u001b[49m\u001b[43mlut_dict\u001b[49m\u001b[43m,\u001b[49m\u001b[43m \u001b[49m\u001b[43melectrode_model\u001b[49m\u001b[43m,\u001b[49m\u001b[43m \u001b[49m\u001b[43msegment_lut\u001b[49m\u001b[43m)\u001b[49m\n",
      "File \u001b[0;32m~/Software_Local/StimPyPer/stim_pyper/matlab_utils/mat_reader.py:107\u001b[0m, in \u001b[0;36mMatReaderV2._get_segments\u001b[0;34m(self, lut_dict, electrode_model, segment_lut)\u001b[0m\n\u001b[1;32m    105\u001b[0m     segments \u001b[38;5;241m=\u001b[39m lut_dict[electrode_model][segment_lut]\n\u001b[1;32m    106\u001b[0m \u001b[38;5;28;01mexcept\u001b[39;00m \u001b[38;5;167;01mKeyError\u001b[39;00m \u001b[38;5;28;01mas\u001b[39;00m e:\n\u001b[0;32m--> 107\u001b[0m     \u001b[38;5;28;01mraise\u001b[39;00m \u001b[38;5;167;01mKeyError\u001b[39;00m(\u001b[38;5;124mf\u001b[39m\u001b[38;5;124m\"\u001b[39m\u001b[38;5;124mModel: \u001b[39m\u001b[38;5;132;01m{\u001b[39;00melectrode_model\u001b[38;5;132;01m}\u001b[39;00m\u001b[38;5;124m is not implemented in electrode_lut.json\u001b[39m\u001b[38;5;124m\"\u001b[39m)\n\u001b[1;32m    108\u001b[0m \u001b[38;5;28;01mexcept\u001b[39;00m \u001b[38;5;167;01mException\u001b[39;00m \u001b[38;5;28;01mas\u001b[39;00m e:\n\u001b[1;32m    109\u001b[0m     \u001b[38;5;28;01mraise\u001b[39;00m \u001b[38;5;167;01mRuntimeError\u001b[39;00m(\u001b[38;5;124mf\u001b[39m\u001b[38;5;124m\"\u001b[39m\u001b[38;5;124mError in _get_segments: \u001b[39m\u001b[38;5;132;01m{\u001b[39;00me\u001b[38;5;132;01m}\u001b[39;00m\u001b[38;5;124m\"\u001b[39m)\n",
      "\u001b[0;31mKeyError\u001b[0m: 'Model: Boston Scientific Vercise Directed is not implemented in electrode_lut.json'"
     ]
    }
   ],
   "source": [
    "from stim_pyper.processing_utils.run_optimizer import OptimizerProcessor\n",
    "optimizer = OptimizerProcessor(electrode_data_path=recon_path, nifti_path=target_path, output_path=out_dir)\n",
    "d = optimizer.run()"
   ]
  },
  {
   "cell_type": "code",
   "execution_count": null,
   "metadata": {},
   "outputs": [],
   "source": []
  }
 ],
 "metadata": {
  "kernelspec": {
   "display_name": ".optimizer_venv (3.10.18)",
   "language": "python",
   "name": "python3"
  },
  "language_info": {
   "codemirror_mode": {
    "name": "ipython",
    "version": 3
   },
   "file_extension": ".py",
   "mimetype": "text/x-python",
   "name": "python",
   "nbconvert_exporter": "python",
   "pygments_lexer": "ipython3",
   "version": "3.10.18"
  }
 },
 "nbformat": 4,
 "nbformat_minor": 2
}
