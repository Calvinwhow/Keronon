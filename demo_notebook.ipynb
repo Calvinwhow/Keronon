{
 "cells": [
  {
   "cell_type": "markdown",
   "metadata": {},
   "source": [
    "# Optimize an Electrode"
   ]
  },
  {
   "cell_type": "code",
   "execution_count": null,
   "metadata": {},
   "outputs": [],
   "source": [
    "# recon_path = '/Users/cu135/Software_Local/StimPyPer/stim_pyper/matlab_utils/test_electrode.mat'\n",
    "recon_path = '/path/to/your/reconstruction.mat'\n",
    "target_path = '/path/to/your/target.nii.gz'\n",
    "out_dir = '/path/to/save/location'"
   ]
  },
  {
   "cell_type": "code",
   "execution_count": null,
   "metadata": {},
   "outputs": [],
   "source": [
    "from stim_pyper.processing_utils.run_optimizer import OptimizerProcessor\n",
    "optimizer = OptimizerProcessor(electrode_data_path=recon_path, nifti_path=target_path, output_path=out_dir)\n",
    "d = optimizer.run()"
   ]
  },
  {
   "cell_type": "markdown",
   "metadata": {},
   "source": [
    "Love,\n",
    "\n",
    "--Calvin"
   ]
  }
 ],
 "metadata": {
  "kernelspec": {
   "display_name": ".optimizer_venv (3.10.18)",
   "language": "python",
   "name": "python3"
  },
  "language_info": {
   "codemirror_mode": {
    "name": "ipython",
    "version": 3
   },
   "file_extension": ".py",
   "mimetype": "text/x-python",
   "name": "python",
   "nbconvert_exporter": "python",
   "pygments_lexer": "ipython3",
   "version": "3.10.18"
  }
 },
 "nbformat": 4,
 "nbformat_minor": 2
}
