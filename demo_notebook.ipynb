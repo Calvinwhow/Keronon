{
 "cells": [
  {
   "cell_type": "markdown",
   "metadata": {},
   "source": [
    "# Optimize an Electrode"
   ]
  },
  {
   "cell_type": "code",
   "execution_count": 65,
   "metadata": {},
   "outputs": [],
   "source": [
    "recon_path = '/Users/cu135/Partners HealthCare Dropbox/Calvin Howard/studies/collaborations/Richardson_DBS/Reco_Chron_Pain/PAG/ea_reconstruction.mat'\n",
    "target_path = '/Users/cu135/Partners HealthCare Dropbox/Calvin Howard/studies/collaborations/Richardson_DBS/optimized_program/target_maps/flipped_SEEG_pain_intensity_vs_sham_inverted_pcc_inverse_r_map.nii'\n",
    "out_dir = '/Users/cu135/hires_backdrops/test_electrode'"
   ]
  },
  {
   "cell_type": "code",
   "execution_count": 11,
   "metadata": {},
   "outputs": [
    {
     "ename": "KeyboardInterrupt",
     "evalue": "",
     "output_type": "error",
     "traceback": [
      "\u001b[0;31m---------------------------------------------------------------------------\u001b[0m",
      "\u001b[0;31mKeyboardInterrupt\u001b[0m                         Traceback (most recent call last)",
      "Cell \u001b[0;32mIn[11], line 3\u001b[0m\n\u001b[1;32m      1\u001b[0m \u001b[38;5;28;01mfrom\u001b[39;00m\u001b[38;5;250m \u001b[39m\u001b[38;5;21;01mstim_pyper\u001b[39;00m\u001b[38;5;21;01m.\u001b[39;00m\u001b[38;5;21;01mprocessing_utils\u001b[39;00m\u001b[38;5;21;01m.\u001b[39;00m\u001b[38;5;21;01mrun_optimizer\u001b[39;00m\u001b[38;5;250m \u001b[39m\u001b[38;5;28;01mimport\u001b[39;00m OptimizerProcessor\n\u001b[1;32m      2\u001b[0m optimizer \u001b[38;5;241m=\u001b[39m OptimizerProcessor(electrode_data\u001b[38;5;241m=\u001b[39mrecon_path, nifti_path\u001b[38;5;241m=\u001b[39mtarget_path, output_path\u001b[38;5;241m=\u001b[39mout_dir)\n\u001b[0;32m----> 3\u001b[0m d \u001b[38;5;241m=\u001b[39m \u001b[43moptimizer\u001b[49m\u001b[38;5;241;43m.\u001b[39;49m\u001b[43mrun\u001b[49m\u001b[43m(\u001b[49m\u001b[43m)\u001b[49m\n",
      "File \u001b[0;32m~/Software_Local/StimPyPer/stim_pyper/processing_utils/run_optimizer.py:77\u001b[0m, in \u001b[0;36mOptimizerProcessor.run\u001b[0;34m(self)\u001b[0m\n\u001b[1;32m     75\u001b[0m \u001b[38;5;28;01mdef\u001b[39;00m\u001b[38;5;250m \u001b[39m\u001b[38;5;21mrun\u001b[39m(\u001b[38;5;28mself\u001b[39m):\n\u001b[1;32m     76\u001b[0m \u001b[38;5;250m    \u001b[39m\u001b[38;5;124;03m\"\"\"Processes the data and calls handle_nii_map for each combination of lambda and weight.\"\"\"\u001b[39;00m\n\u001b[0;32m---> 77\u001b[0m     target_coords \u001b[38;5;241m=\u001b[39m \u001b[38;5;28;43mself\u001b[39;49m\u001b[38;5;241;43m.\u001b[39;49m\u001b[43mnii_to_mni\u001b[49m\u001b[43m(\u001b[49m\u001b[38;5;28;43mself\u001b[39;49m\u001b[38;5;241;43m.\u001b[39;49m\u001b[43mnifti_path\u001b[49m\u001b[43m)\u001b[49m\n\u001b[1;32m     78\u001b[0m     electrode_dict \u001b[38;5;241m=\u001b[39m \u001b[38;5;28mself\u001b[39m\u001b[38;5;241m.\u001b[39mget_electrode_dict()\n\u001b[1;32m     79\u001b[0m     \u001b[38;5;28;01mfor\u001b[39;00m electrode_idx \u001b[38;5;129;01min\u001b[39;00m electrode_dict:\n",
      "File \u001b[0;32m~/Software_Local/StimPyPer/stim_pyper/processing_utils/run_optimizer.py:27\u001b[0m, in \u001b[0;36mOptimizerProcessor.nii_to_mni\u001b[0;34m(self, path)\u001b[0m\n\u001b[1;32m     25\u001b[0m indices \u001b[38;5;241m=\u001b[39m np\u001b[38;5;241m.\u001b[39mvstack((indices, np\u001b[38;5;241m.\u001b[39mones((\u001b[38;5;241m1\u001b[39m, indices\u001b[38;5;241m.\u001b[39mshape[\u001b[38;5;241m1\u001b[39m]))))\n\u001b[1;32m     26\u001b[0m mni_coords \u001b[38;5;241m=\u001b[39m np\u001b[38;5;241m.\u001b[39mdot(affine, indices)\n\u001b[0;32m---> 27\u001b[0m values \u001b[38;5;241m=\u001b[39m \u001b[43mdata\u001b[49m\u001b[38;5;241;43m.\u001b[39;49m\u001b[43mflatten\u001b[49m\u001b[43m(\u001b[49m\u001b[43m)\u001b[49m\n\u001b[1;32m     28\u001b[0m mni_coords \u001b[38;5;241m=\u001b[39m [\n\u001b[1;32m     29\u001b[0m     (mni_coords[\u001b[38;5;241m0\u001b[39m, i], mni_coords[\u001b[38;5;241m1\u001b[39m, i], mni_coords[\u001b[38;5;241m2\u001b[39m, i], values[i])\n\u001b[1;32m     30\u001b[0m     \u001b[38;5;28;01mfor\u001b[39;00m i \u001b[38;5;129;01min\u001b[39;00m \u001b[38;5;28mrange\u001b[39m(mni_coords\u001b[38;5;241m.\u001b[39mshape[\u001b[38;5;241m1\u001b[39m])\n\u001b[1;32m     31\u001b[0m     \u001b[38;5;28;01mif\u001b[39;00m \u001b[38;5;129;01mnot\u001b[39;00m np\u001b[38;5;241m.\u001b[39misnan(values[i])\n\u001b[1;32m     32\u001b[0m ]\n\u001b[1;32m     33\u001b[0m \u001b[38;5;28;01mreturn\u001b[39;00m mni_coords\n",
      "\u001b[0;31mKeyboardInterrupt\u001b[0m: "
     ]
    }
   ],
   "source": [
    "from stim_pyper.processing_utils.run_optimizer import OptimizerProcessor\n",
    "optimizer = OptimizerProcessor(electrode_data=recon_path, nifti_path=target_path, output_path=out_dir)\n",
    "d = optimizer.run()"
   ]
  },
  {
   "cell_type": "code",
   "execution_count": null,
   "metadata": {},
   "outputs": [
    {
     "name": "stdout",
     "output_type": "stream",
     "text": [
      "<class 'numpy.ndarray'>\n",
      "<class 'numpy.ndarray'>\n",
      "<class 'numpy.ndarray'>\n"
     ]
    }
   ],
   "source": [
    "for idx in d.values():\n",
    "    print(type(idx))"
   ]
  },
  {
   "cell_type": "code",
   "execution_count": null,
   "metadata": {},
   "outputs": [],
   "source": [
    "import os \n",
    "import h5py\n",
    "import json\n",
    "import numpy as np\n",
    "from pathlib import Path\n",
    "from typing import Union, Optional, List, Dict\n",
    "\n",
    "class MatReaderV2:\n",
    "    '''Class to extract reconstruction data from ea_reconstruction.mat files.'''\n",
    "    def __init__(self, file_path: Union[str, Path]):\n",
    "        self.file_path = Path(file_path).expanduser().resolve()\n",
    "        self._data: Optional[dict] = None\n",
    "        self._f: Optional[h5py.File] = None\n",
    "\n",
    "    def _h5_to_dict(self, group):\n",
    "        '''Converts an h5 file to a dict.'''\n",
    "        out = {}\n",
    "        for k, v in group.items():\n",
    "            out[k] = v if isinstance(v, h5py.Dataset) else self._h5_to_dict(v)\n",
    "        return out\n",
    "\n",
    "    def _load(self):\n",
    "        '''Loads or returns the data (for getting pointers) and h5 file (for referencing w/ pointers)'''\n",
    "        if self._data is not None:\n",
    "            return self._data\n",
    "        if self.file_path.suffix != \".mat\":\n",
    "            raise ValueError(\"not a .mat file\")\n",
    "        try:\n",
    "            from scipy.io import loadmat\n",
    "            self._data = loadmat(self.file_path, simplify_cells=True)\n",
    "            self._f = None\n",
    "        except (NotImplementedError, ValueError):\n",
    "            self._f = h5py.File(self.file_path, \"r\")\n",
    "            self._data = self._h5_to_dict(self._f)\n",
    "        return self._data\n",
    "\n",
    "    def _get(self, *keys):\n",
    "        '''Recursion function'''\n",
    "        node = self._load()\n",
    "        for k in keys:\n",
    "            if not isinstance(node, dict) or k not in node:\n",
    "                return None\n",
    "            node = node[k]\n",
    "        return node\n",
    "\n",
    "    def resolve(self, ref):\n",
    "        '''references the h5py file with retrieved headers to get data'''\n",
    "        if self._f is None:\n",
    "            raise RuntimeError(\"Cannot resolve reference: no open h5py.File\")\n",
    "        return self._f[ref][()].T\n",
    "    \n",
    "    def coords(self) -> List[np.ndarray]:\n",
    "        d = self._get(\"reco\", \"mni\", \"coords_mm\")\n",
    "        if d is None:\n",
    "            return []\n",
    "\n",
    "        arr = d[()] if isinstance(d, h5py.Dataset) else d  # payload\n",
    "\n",
    "        # single electrode, already numeric\n",
    "        if arr.dtype != object:\n",
    "            return [arr]                       # (N,3)\n",
    "\n",
    "        # multiple electrodes: each row has three HDF5 refs (x,y,z)\n",
    "        out = []\n",
    "        for row in arr:                       # shape (n_electrodes, 3)\n",
    "            xyz = [self.resolve(r) for r in row]   # three (N,) vectors\n",
    "            out.append(np.column_stack(xyz))       # (N,3)\n",
    "        return out\n",
    "\n",
    "    def elmodels(self) -> list[str]:\n",
    "        '''Recurses through the dict and gets the elmodel string'''\n",
    "        e = self._get(\"reco\", \"props\", \"elmodel\")\n",
    "        if e is None:\n",
    "            return []\n",
    "        obj = e[()]\n",
    "        if obj.dtype == object:                          # multiple refs\n",
    "            return [''.join(map(chr, self._f[r][()].flatten())) for r in obj.flatten()]\n",
    "        return [''.join(map(chr, obj.flatten()))]        # single string\n",
    "    \n",
    "    def segment_lookup(self, electrode_model, segment_lut='contact_segment_labels') -> List[int]:\n",
    "        '''References the electrode_lut.json file which contains info on which contacts are in which segments.'''\n",
    "        cwd = os.path.abspath(os.getcwd())\n",
    "        lut = os.path.join(cwd, 'stim_pyper', 'resources', 'electrode_lut.json')\n",
    "        with open(lut, 'r') as f:\n",
    "            lut_dict = json.load(f)\n",
    "        segments = lut_dict[electrode_model][segment_lut]\n",
    "        return segments\n",
    "    \n",
    "    def pair_contacts_to_segments(self, contact_coords, segments) -> Dict:\n",
    "        '''Places each contact in a dict with a subdict relating its segment and coordinates.'''\n",
    "        contact_dict = {}\n",
    "        for idx in range(0, len(segments)):\n",
    "            contact_dict[idx] = {segments[idx]: contact_coords[idx]}\n",
    "        return contact_dict\n",
    "    \n",
    "    def run(self) -> List[Dict]:\n",
    "        '''\n",
    "        Orchestration function. Returns list of dicts (one per electrode).\n",
    "        First level keys are the integer of the contact.\n",
    "        The first level values are the subdict with {segment: array[x,y,z]}\n",
    "        example: [{contact_integer: {{segment_integer: array[x,y,z]} }}]\n",
    "        '''\n",
    "        coords_list  = self.coords()\n",
    "        model_list   = self.elmodels()\n",
    "\n",
    "        if len(coords_list) != len(model_list):\n",
    "            raise ValueError(\"mismatch coords vs models\")\n",
    "\n",
    "        out = []\n",
    "        for coord, model in zip(coords_list, model_list):\n",
    "            segments = self.segment_lookup(model)\n",
    "            out.append(self.pair_contacts_to_segments(coord, segments))\n",
    "        return out\n"
   ]
  },
  {
   "cell_type": "code",
   "execution_count": 67,
   "metadata": {},
   "outputs": [
    {
     "data": {
      "text/plain": [
       "[{0: {1: array([  3.11781, -26.0572 ,  -7.63657])},\n",
       "  1: {2: array([  4.28923, -24.844  ,  -6.46454])},\n",
       "  2: {2: array([  3.52362, -24.0464 ,  -6.94082])},\n",
       "  3: {2: array([  3.16521, -24.8044 ,  -6.04362])},\n",
       "  4: {3: array([  4.83442, -23.3192 ,  -5.32825])},\n",
       "  5: {3: array([  4.07143, -22.5292 ,  -5.77824])},\n",
       "  6: {3: array([  3.70274, -23.2954 ,  -4.8999 ])},\n",
       "  7: {4: array([  4.81581, -21.4217 ,  -4.13576])}}]"
      ]
     },
     "execution_count": 67,
     "metadata": {},
     "output_type": "execute_result"
    }
   ],
   "source": [
    "MatReaderV2(recon_path).run()"
   ]
  },
  {
   "cell_type": "code",
   "execution_count": 4,
   "metadata": {},
   "outputs": [
    {
     "data": {
      "text/plain": [
       "'/Users/cu135/Software_Local/StimPyPer'"
      ]
     },
     "execution_count": 4,
     "metadata": {},
     "output_type": "execute_result"
    }
   ],
   "source": [
    "import os\n",
    "os.path.abspath(os.getcwd())"
   ]
  },
  {
   "cell_type": "code",
   "execution_count": null,
   "metadata": {},
   "outputs": [],
   "source": []
  }
 ],
 "metadata": {
  "kernelspec": {
   "display_name": ".optimizer_venv (3.10.18)",
   "language": "python",
   "name": "python3"
  },
  "language_info": {
   "codemirror_mode": {
    "name": "ipython",
    "version": 3
   },
   "file_extension": ".py",
   "mimetype": "text/x-python",
   "name": "python",
   "nbconvert_exporter": "python",
   "pygments_lexer": "ipython3",
   "version": "3.10.18"
  }
 },
 "nbformat": 4,
 "nbformat_minor": 2
}
